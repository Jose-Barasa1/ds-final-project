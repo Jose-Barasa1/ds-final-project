{
 "cells": [
  {
   "cell_type": "markdown",
   "metadata": {},
   "source": [
    " ## AVIATION RISK ANALYSIS\n",
    "\n",
    " ## INTRODUCTION\n",
    "The company wants to start working with airplanes but needs to know which ones are the safest.  \n",
    "\n",
    "In this project, I will look at accident data from 1962–2023.  \n",
    "The goal is to find the lowest-risk aircraft and give 3 clear recommendations to help the business decide which planes to buy.\n"
   ]
  },
  {
   "cell_type": "markdown",
   "metadata": {},
   "source": [
    " ## BUSINESS UNDERSTANDING\n",
    " \n",
    " ## WHO'S THIS FOR?  \n",
    "The Head of the Aviation Division.  \n",
    "\n",
    " ## WHAT DOES THE BUSINESS NEED? \n",
    "They want to know which aircraft are safest to buy.  \n",
    "\n",
    "Key Questions:  \n",
    "1. Which aircraft types have the fewest accidents?  \n",
    "2. How have accidents changed over time?  \n",
    "3. Are private or commercial aircraft safer?  \n"
   ]
  },
  {
   "cell_type": "markdown",
   "metadata": {},
   "source": [
    "## DATA UNDERSTANDING\n",
    "\n",
    "The dataset comes from the National Transportation Safety Board (NTSB).  \n",
    "It covers aviation accidents from 1962 to 2023.  \n",
    "\n",
    " ## WHAT WILL I DO HERE:\n",
    "- Load the dataset into Python.  \n",
    "- Look at the first few rows to see what it looks like.  \n",
    "- Check the number of rows, columns, and missing values.  \n",
    "- Find the most important columns for our analysis (like aircraft type, purpose, fatalities, and damage).  \n"
   ]
  },
  {
   "cell_type": "markdown",
   "metadata": {},
   "source": [
    "## LOAD DATASET AND INSPECT AND UNDERSTAND THE DATA\n",
    "Here we will load the dataset into a DataFrame,  \n",
    "look at the first rows, and check the shape and basic info.\n"
   ]
  },
  {
   "cell_type": "code",
   "execution_count": 364,
   "metadata": {},
   "outputs": [
    {
     "data": {
      "text/html": [
       "<div>\n",
       "<style scoped>\n",
       "    .dataframe tbody tr th:only-of-type {\n",
       "        vertical-align: middle;\n",
       "    }\n",
       "\n",
       "    .dataframe tbody tr th {\n",
       "        vertical-align: top;\n",
       "    }\n",
       "\n",
       "    .dataframe thead th {\n",
       "        text-align: right;\n",
       "    }\n",
       "</style>\n",
       "<table border=\"1\" class=\"dataframe\">\n",
       "  <thead>\n",
       "    <tr style=\"text-align: right;\">\n",
       "      <th></th>\n",
       "      <th>date</th>\n",
       "      <th>type</th>\n",
       "      <th>registration</th>\n",
       "      <th>operator</th>\n",
       "      <th>fatalities</th>\n",
       "      <th>location</th>\n",
       "      <th>country</th>\n",
       "      <th>cat</th>\n",
       "      <th>year</th>\n",
       "    </tr>\n",
       "  </thead>\n",
       "  <tbody>\n",
       "    <tr>\n",
       "      <th>0</th>\n",
       "      <td>date unk.</td>\n",
       "      <td>Antonov An-12B</td>\n",
       "      <td>T-1206</td>\n",
       "      <td>Indonesian AF</td>\n",
       "      <td>NaN</td>\n",
       "      <td>NaN</td>\n",
       "      <td>Unknown country</td>\n",
       "      <td>U1</td>\n",
       "      <td>unknown</td>\n",
       "    </tr>\n",
       "    <tr>\n",
       "      <th>1</th>\n",
       "      <td>date unk.</td>\n",
       "      <td>Antonov An-12B</td>\n",
       "      <td>T-1204</td>\n",
       "      <td>Indonesian AF</td>\n",
       "      <td>NaN</td>\n",
       "      <td>NaN</td>\n",
       "      <td>Unknown country</td>\n",
       "      <td>U1</td>\n",
       "      <td>unknown</td>\n",
       "    </tr>\n",
       "    <tr>\n",
       "      <th>2</th>\n",
       "      <td>date unk.</td>\n",
       "      <td>Antonov An-12B</td>\n",
       "      <td>T-1201</td>\n",
       "      <td>Indonesian AF</td>\n",
       "      <td>NaN</td>\n",
       "      <td>NaN</td>\n",
       "      <td>Unknown country</td>\n",
       "      <td>U1</td>\n",
       "      <td>unknown</td>\n",
       "    </tr>\n",
       "    <tr>\n",
       "      <th>3</th>\n",
       "      <td>date unk.</td>\n",
       "      <td>Antonov An-12BK</td>\n",
       "      <td>NaN</td>\n",
       "      <td>Soviet AF</td>\n",
       "      <td>NaN</td>\n",
       "      <td>Tiksi Airport (IKS)</td>\n",
       "      <td>Russia</td>\n",
       "      <td>A1</td>\n",
       "      <td>unknown</td>\n",
       "    </tr>\n",
       "    <tr>\n",
       "      <th>4</th>\n",
       "      <td>date unk.</td>\n",
       "      <td>Antonov An-12BP</td>\n",
       "      <td>CCCP-11815</td>\n",
       "      <td>Soviet AF</td>\n",
       "      <td>0</td>\n",
       "      <td>Massawa Airport ...</td>\n",
       "      <td>Eritrea</td>\n",
       "      <td>A1</td>\n",
       "      <td>unknown</td>\n",
       "    </tr>\n",
       "  </tbody>\n",
       "</table>\n",
       "</div>"
      ],
      "text/plain": [
       "        date             type registration       operator fatalities  \\\n",
       "0  date unk.   Antonov An-12B       T-1206  Indonesian AF        NaN   \n",
       "1  date unk.   Antonov An-12B       T-1204  Indonesian AF        NaN   \n",
       "2  date unk.   Antonov An-12B       T-1201  Indonesian AF        NaN   \n",
       "3  date unk.  Antonov An-12BK          NaN      Soviet AF        NaN   \n",
       "4  date unk.  Antonov An-12BP   CCCP-11815      Soviet AF          0   \n",
       "\n",
       "              location          country cat     year  \n",
       "0                  NaN  Unknown country  U1  unknown  \n",
       "1                  NaN  Unknown country  U1  unknown  \n",
       "2                  NaN  Unknown country  U1  unknown  \n",
       "3  Tiksi Airport (IKS)           Russia  A1  unknown  \n",
       "4  Massawa Airport ...          Eritrea  A1  unknown  "
      ]
     },
     "execution_count": 364,
     "metadata": {},
     "output_type": "execute_result"
    }
   ],
   "source": [
    "import pandas as pd\n",
    "\n",
    "# load the dataset and assign it to tb \n",
    "tb = pd.read_csv('aviation-accident-data-2023-05-16.csv')\n",
    "\n",
    "# print the first 5 rows of the aviation dataset \n",
    "tb.head()"
   ]
  },
  {
   "cell_type": "code",
   "execution_count": 365,
   "metadata": {},
   "outputs": [
    {
     "data": {
      "text/plain": [
       "(23967, 9)"
      ]
     },
     "execution_count": 365,
     "metadata": {},
     "output_type": "execute_result"
    }
   ],
   "source": [
    "# let's check the shape of the dataset (rows,columns)\n",
    "tb.shape\n",
    "# we can confirm that we have 23967 rows and 9 columns in the  aviation dataset"
   ]
  },
  {
   "cell_type": "code",
   "execution_count": 366,
   "metadata": {},
   "outputs": [
    {
     "name": "stdout",
     "output_type": "stream",
     "text": [
      "<class 'pandas.core.frame.DataFrame'>\n",
      "RangeIndex: 23967 entries, 0 to 23966\n",
      "Data columns (total 9 columns):\n",
      " #   Column        Non-Null Count  Dtype \n",
      "---  ------        --------------  ----- \n",
      " 0   date          23967 non-null  object\n",
      " 1   type          23967 non-null  object\n",
      " 2   registration  22419 non-null  object\n",
      " 3   operator      23963 non-null  object\n",
      " 4   fatalities    20029 non-null  object\n",
      " 5   location      23019 non-null  object\n",
      " 6   country       23967 non-null  object\n",
      " 7   cat           23967 non-null  object\n",
      " 8   year          23967 non-null  object\n",
      "dtypes: object(9)\n",
      "memory usage: 1.6+ MB\n"
     ]
    }
   ],
   "source": [
    "# let's check the data types and column names\n",
    "tb.info()"
   ]
  },
  {
   "cell_type": "code",
   "execution_count": 367,
   "metadata": {},
   "outputs": [],
   "source": [
    "# we can confirm that we have 9 colums with 23967 rows but some columns have missing values or duplicate values thus leading to the uneven number in some columns"
   ]
  },
  {
   "cell_type": "markdown",
   "metadata": {},
   "source": [
    "## DATA CLEANING\n",
    "\n",
    "Now we will check for missing values and clean the data.  \n",
    "Steps:\n",
    "- Count missing values in each column  \n",
    "- Decide which columns to drop or fix  \n",
    "- Rename columns for easy readability and understanding  \n"
   ]
  },
  {
   "cell_type": "code",
   "execution_count": 368,
   "metadata": {},
   "outputs": [
    {
     "data": {
      "text/plain": [
       "date               0\n",
       "type               0\n",
       "registration    1548\n",
       "operator           4\n",
       "fatalities      3938\n",
       "location         948\n",
       "country            0\n",
       "cat                0\n",
       "year               0\n",
       "dtype: int64"
      ]
     },
     "execution_count": 368,
     "metadata": {},
     "output_type": "execute_result"
    }
   ],
   "source": [
    "# we'll start by counting missing values\n",
    "tb.isnull().sum()"
   ]
  },
  {
   "cell_type": "markdown",
   "metadata": {},
   "source": [
    "we can identify that 4 columns have missing values but for easier readability we'll arrange them in descending order"
   ]
  },
  {
   "cell_type": "code",
   "execution_count": 369,
   "metadata": {},
   "outputs": [
    {
     "data": {
      "text/plain": [
       "fatalities      3938\n",
       "registration    1548\n",
       "location         948\n",
       "operator           4\n",
       "date               0\n",
       "type               0\n",
       "country            0\n",
       "cat                0\n",
       "year               0\n",
       "dtype: int64"
      ]
     },
     "execution_count": 369,
     "metadata": {},
     "output_type": "execute_result"
    }
   ],
   "source": [
    "# arrange them in descending order\n",
    "tb.isnull().sum().sort_values(ascending=False)"
   ]
  },
  {
   "cell_type": "code",
   "execution_count": 370,
   "metadata": {},
   "outputs": [
    {
     "data": {
      "text/plain": [
       "np.int64(115)"
      ]
     },
     "execution_count": 370,
     "metadata": {},
     "output_type": "execute_result"
    }
   ],
   "source": [
    "# now let's check for duplicate values\n",
    "tb.duplicated().sum()"
   ]
  },
  {
   "cell_type": "markdown",
   "metadata": {},
   "source": [
    "we can confirm that we have 115 duplicates in our aviation dataset now we'll rename the columns for easier understanding and readability"
   ]
  },
  {
   "cell_type": "markdown",
   "metadata": {},
   "source": [
    "## RENAME COLUMNS\n",
    "\n",
    "The current column names are confusing and not detailed .  \n",
    "We will rename them to be easier to read and clean and analyze.\n"
   ]
  },
  {
   "cell_type": "code",
   "execution_count": 371,
   "metadata": {},
   "outputs": [],
   "source": [
    "# renaming the columns too be user friendly and easily understandable\n",
    "\n",
    "tb = tb.rename(columns={\n",
    "     \"date\": \"Date of Accident\",\n",
    "    \"type\": \"Aircraft Type\",\n",
    "    \"registration\": \"Aircraft Registration\",\n",
    "    \"operator\": \"Operator\",\n",
    "    \"fatalities\": \"Deaths\",\n",
    "    \"location\": \"Location\",\n",
    "    \"country\": \"Country\",\n",
    "    \"cat\": \"Category\",\n",
    "    \"year\": \"Year\"\n",
    "})"
   ]
  },
  {
   "cell_type": "code",
   "execution_count": 372,
   "metadata": {},
   "outputs": [
    {
     "data": {
      "text/html": [
       "<div>\n",
       "<style scoped>\n",
       "    .dataframe tbody tr th:only-of-type {\n",
       "        vertical-align: middle;\n",
       "    }\n",
       "\n",
       "    .dataframe tbody tr th {\n",
       "        vertical-align: top;\n",
       "    }\n",
       "\n",
       "    .dataframe thead th {\n",
       "        text-align: right;\n",
       "    }\n",
       "</style>\n",
       "<table border=\"1\" class=\"dataframe\">\n",
       "  <thead>\n",
       "    <tr style=\"text-align: right;\">\n",
       "      <th></th>\n",
       "      <th>Date of Accident</th>\n",
       "      <th>Aircraft Type</th>\n",
       "      <th>Aircraft Registration</th>\n",
       "      <th>Operator</th>\n",
       "      <th>Deaths</th>\n",
       "      <th>Location</th>\n",
       "      <th>Country</th>\n",
       "      <th>Category</th>\n",
       "      <th>Year</th>\n",
       "    </tr>\n",
       "  </thead>\n",
       "  <tbody>\n",
       "    <tr>\n",
       "      <th>0</th>\n",
       "      <td>date unk.</td>\n",
       "      <td>Antonov An-12B</td>\n",
       "      <td>T-1206</td>\n",
       "      <td>Indonesian AF</td>\n",
       "      <td>NaN</td>\n",
       "      <td>NaN</td>\n",
       "      <td>Unknown country</td>\n",
       "      <td>U1</td>\n",
       "      <td>unknown</td>\n",
       "    </tr>\n",
       "    <tr>\n",
       "      <th>1</th>\n",
       "      <td>date unk.</td>\n",
       "      <td>Antonov An-12B</td>\n",
       "      <td>T-1204</td>\n",
       "      <td>Indonesian AF</td>\n",
       "      <td>NaN</td>\n",
       "      <td>NaN</td>\n",
       "      <td>Unknown country</td>\n",
       "      <td>U1</td>\n",
       "      <td>unknown</td>\n",
       "    </tr>\n",
       "    <tr>\n",
       "      <th>2</th>\n",
       "      <td>date unk.</td>\n",
       "      <td>Antonov An-12B</td>\n",
       "      <td>T-1201</td>\n",
       "      <td>Indonesian AF</td>\n",
       "      <td>NaN</td>\n",
       "      <td>NaN</td>\n",
       "      <td>Unknown country</td>\n",
       "      <td>U1</td>\n",
       "      <td>unknown</td>\n",
       "    </tr>\n",
       "    <tr>\n",
       "      <th>3</th>\n",
       "      <td>date unk.</td>\n",
       "      <td>Antonov An-12BK</td>\n",
       "      <td>NaN</td>\n",
       "      <td>Soviet AF</td>\n",
       "      <td>NaN</td>\n",
       "      <td>Tiksi Airport (IKS)</td>\n",
       "      <td>Russia</td>\n",
       "      <td>A1</td>\n",
       "      <td>unknown</td>\n",
       "    </tr>\n",
       "    <tr>\n",
       "      <th>4</th>\n",
       "      <td>date unk.</td>\n",
       "      <td>Antonov An-12BP</td>\n",
       "      <td>CCCP-11815</td>\n",
       "      <td>Soviet AF</td>\n",
       "      <td>0</td>\n",
       "      <td>Massawa Airport ...</td>\n",
       "      <td>Eritrea</td>\n",
       "      <td>A1</td>\n",
       "      <td>unknown</td>\n",
       "    </tr>\n",
       "  </tbody>\n",
       "</table>\n",
       "</div>"
      ],
      "text/plain": [
       "  Date of Accident    Aircraft Type Aircraft Registration       Operator  \\\n",
       "0        date unk.   Antonov An-12B                T-1206  Indonesian AF   \n",
       "1        date unk.   Antonov An-12B                T-1204  Indonesian AF   \n",
       "2        date unk.   Antonov An-12B                T-1201  Indonesian AF   \n",
       "3        date unk.  Antonov An-12BK                   NaN      Soviet AF   \n",
       "4        date unk.  Antonov An-12BP            CCCP-11815      Soviet AF   \n",
       "\n",
       "  Deaths             Location          Country Category     Year  \n",
       "0    NaN                  NaN  Unknown country       U1  unknown  \n",
       "1    NaN                  NaN  Unknown country       U1  unknown  \n",
       "2    NaN                  NaN  Unknown country       U1  unknown  \n",
       "3    NaN  Tiksi Airport (IKS)           Russia       A1  unknown  \n",
       "4      0  Massawa Airport ...          Eritrea       A1  unknown  "
      ]
     },
     "execution_count": 372,
     "metadata": {},
     "output_type": "execute_result"
    }
   ],
   "source": [
    "# let's check whether the columns changed \n",
    "\n",
    "tb.head(5)"
   ]
  },
  {
   "cell_type": "markdown",
   "metadata": {},
   "source": [
    "## Clean and Change Data Types and  Replace Missing Values\n",
    "\n",
    "We will:\n",
    "- Change Year and Fatalities to numbers  \n",
    "- Replace missing values in Registration, Operator, and Location with \"Unknown\"  \n",
    "- Replace missing Fatalities with 0  \n"
   ]
  },
  {
   "cell_type": "code",
   "execution_count": 373,
   "metadata": {},
   "outputs": [],
   "source": [
    "# convert data types first\n",
    "tb['Year'] = pd.to_numeric(tb['Year'], errors='coerce')\n",
    "tb['Deaths'] = pd.to_numeric(tb['Deaths'], errors='coerce').fillna(0)\n",
    "\n"
   ]
  },
  {
   "cell_type": "code",
   "execution_count": 374,
   "metadata": {},
   "outputs": [],
   "source": [
    "# Now let's fill in the missing values with data using fillna() method\n",
    "\n",
    "tb['Location']=tb['Location'].fillna('Not Reported')\n",
    "tb['Operator']=tb['Operator'].fillna('Not Reported')\n",
    "tb['Aircraft Registration']=tb['Aircraft Registration'].fillna('Not Reported')\n",
    "\n",
    "\n"
   ]
  },
  {
   "cell_type": "code",
   "execution_count": 375,
   "metadata": {},
   "outputs": [
    {
     "data": {
      "text/plain": [
       "Date of Accident          0\n",
       "Aircraft Type             0\n",
       "Aircraft Registration     0\n",
       "Operator                  0\n",
       "Deaths                    0\n",
       "Location                  0\n",
       "Country                   0\n",
       "Category                  0\n",
       "Year                     61\n",
       "dtype: int64"
      ]
     },
     "execution_count": 375,
     "metadata": {},
     "output_type": "execute_result"
    }
   ],
   "source": [
    "# let's check whether the missing values are filled\n",
    "tb.isnull().sum()"
   ]
  },
  {
   "cell_type": "markdown",
   "metadata": {},
   "source": [
    "### Handling Missing Data\n",
    "\n",
    "Some columns had missing values (like Operator,Aircraft Registration, and Location).  \n",
    "Instead of leaving them empty, we replaced them with **\"Not Reported\"**.  \n",
    "This makes the dataset easier to read,analyze and avoids problems when  plotting data.  \n",
    "\n",
    "For the **Deaths** column, missing values were filled with **0** since no number was reported.\n"
   ]
  },
  {
   "cell_type": "markdown",
   "metadata": {},
   "source": [
    "### Dropping Rows with Missing Year\n",
    "\n",
    "The **Year** column is very crucial for our analysis and business moves moving forward.  \n",
    "Rows without a valid year don't add  any useful insights and can cause problems when plotting or making crucial business decisions.  \n",
    "\n",
    "To keep the dataset clean and valid, we will **drop rows where Year is missing**.\n"
   ]
  },
  {
   "cell_type": "code",
   "execution_count": 376,
   "metadata": {},
   "outputs": [
    {
     "data": {
      "text/plain": [
       "Date of Accident         0\n",
       "Aircraft Type            0\n",
       "Aircraft Registration    0\n",
       "Operator                 0\n",
       "Deaths                   0\n",
       "Location                 0\n",
       "Country                  0\n",
       "Category                 0\n",
       "Year                     0\n",
       "dtype: int64"
      ]
     },
     "execution_count": 376,
     "metadata": {},
     "output_type": "execute_result"
    }
   ],
   "source": [
    "# dropping invalid Year rows\n",
    "tb = tb.dropna(subset=['Year'])\n",
    "\n",
    "# let's confirm the outcome \n",
    "tb.isnull().sum()"
   ]
  },
  {
   "cell_type": "code",
   "execution_count": 377,
   "metadata": {},
   "outputs": [
    {
     "name": "stdout",
     "output_type": "stream",
     "text": [
      "<class 'pandas.core.frame.DataFrame'>\n",
      "Index: 23906 entries, 61 to 23966\n",
      "Data columns (total 9 columns):\n",
      " #   Column                 Non-Null Count  Dtype  \n",
      "---  ------                 --------------  -----  \n",
      " 0   Date of Accident       23906 non-null  object \n",
      " 1   Aircraft Type          23906 non-null  object \n",
      " 2   Aircraft Registration  23906 non-null  object \n",
      " 3   Operator               23906 non-null  object \n",
      " 4   Deaths                 23906 non-null  float64\n",
      " 5   Location               23906 non-null  object \n",
      " 6   Country                23906 non-null  object \n",
      " 7   Category               23906 non-null  object \n",
      " 8   Year                   23906 non-null  float64\n",
      "dtypes: float64(2), object(7)\n",
      "memory usage: 1.8+ MB\n"
     ]
    }
   ],
   "source": [
    "# let's check if there's any inconsitency across all  the columns now\n",
    "tb.info()"
   ]
  },
  {
   "cell_type": "markdown",
   "metadata": {},
   "source": [
    "## FIXING DATATYPES\n",
    "### Converting Date Column\n",
    "\n",
    "The **Date of Accident** column is recognized as object.  \n",
    "To make it useful for analysis ,  \n",
    "we need to convert it into a proper **datetime** format.  \n",
    "\n",
    "This will let us easily explore accidents over time.\n"
   ]
  },
  {
   "cell_type": "code",
   "execution_count": 378,
   "metadata": {},
   "outputs": [
    {
     "name": "stderr",
     "output_type": "stream",
     "text": [
      "/tmp/ipykernel_18013/2435219516.py:2: UserWarning: Could not infer format, so each element will be parsed individually, falling back to `dateutil`. To ensure parsing is consistent and as-expected, please specify a format.\n",
      "  tb['Date of Accident']= pd.to_datetime(tb['Date of Accident'], errors='coerce')\n"
     ]
    }
   ],
   "source": [
    "# converting the date of accident to datetime format\n",
    "tb['Date of Accident']= pd.to_datetime(tb['Date of Accident'], errors='coerce')"
   ]
  },
  {
   "cell_type": "code",
   "execution_count": 379,
   "metadata": {},
   "outputs": [
    {
     "name": "stdout",
     "output_type": "stream",
     "text": [
      "<class 'pandas.core.frame.DataFrame'>\n",
      "Index: 23906 entries, 61 to 23966\n",
      "Data columns (total 9 columns):\n",
      " #   Column                 Non-Null Count  Dtype         \n",
      "---  ------                 --------------  -----         \n",
      " 0   Date of Accident       23408 non-null  datetime64[ns]\n",
      " 1   Aircraft Type          23906 non-null  object        \n",
      " 2   Aircraft Registration  23906 non-null  object        \n",
      " 3   Operator               23906 non-null  object        \n",
      " 4   Deaths                 23906 non-null  float64       \n",
      " 5   Location               23906 non-null  object        \n",
      " 6   Country                23906 non-null  object        \n",
      " 7   Category               23906 non-null  object        \n",
      " 8   Year                   23906 non-null  float64       \n",
      "dtypes: datetime64[ns](1), float64(2), object(6)\n",
      "memory usage: 1.8+ MB\n"
     ]
    }
   ],
   "source": [
    "# let's confirm whether it changed\n",
    "tb.info()"
   ]
  },
  {
   "cell_type": "code",
   "execution_count": 380,
   "metadata": {},
   "outputs": [],
   "source": [
    "# let's convert Year to integer since years are numbers instead of float for good measures\n",
    "tb['Year'] = tb['Year'].astype(int)"
   ]
  },
  {
   "cell_type": "code",
   "execution_count": 381,
   "metadata": {},
   "outputs": [
    {
     "name": "stdout",
     "output_type": "stream",
     "text": [
      "<class 'pandas.core.frame.DataFrame'>\n",
      "Index: 23906 entries, 61 to 23966\n",
      "Data columns (total 9 columns):\n",
      " #   Column                 Non-Null Count  Dtype         \n",
      "---  ------                 --------------  -----         \n",
      " 0   Date of Accident       23408 non-null  datetime64[ns]\n",
      " 1   Aircraft Type          23906 non-null  object        \n",
      " 2   Aircraft Registration  23906 non-null  object        \n",
      " 3   Operator               23906 non-null  object        \n",
      " 4   Deaths                 23906 non-null  float64       \n",
      " 5   Location               23906 non-null  object        \n",
      " 6   Country                23906 non-null  object        \n",
      " 7   Category               23906 non-null  object        \n",
      " 8   Year                   23906 non-null  int64         \n",
      "dtypes: datetime64[ns](1), float64(1), int64(1), object(6)\n",
      "memory usage: 1.8+ MB\n"
     ]
    }
   ],
   "source": [
    "# let's confirm whether it changed\n",
    "tb.info()"
   ]
  },
  {
   "cell_type": "code",
   "execution_count": 382,
   "metadata": {},
   "outputs": [
    {
     "name": "stdout",
     "output_type": "stream",
     "text": [
      "<class 'pandas.core.frame.DataFrame'>\n",
      "Index: 23408 entries, 61 to 23966\n",
      "Data columns (total 9 columns):\n",
      " #   Column                 Non-Null Count  Dtype         \n",
      "---  ------                 --------------  -----         \n",
      " 0   Date of Accident       23408 non-null  datetime64[ns]\n",
      " 1   Aircraft Type          23408 non-null  object        \n",
      " 2   Aircraft Registration  23408 non-null  object        \n",
      " 3   Operator               23408 non-null  object        \n",
      " 4   Deaths                 23408 non-null  float64       \n",
      " 5   Location               23408 non-null  object        \n",
      " 6   Country                23408 non-null  object        \n",
      " 7   Category               23408 non-null  object        \n",
      " 8   Year                   23408 non-null  int64         \n",
      "dtypes: datetime64[ns](1), float64(1), int64(1), object(6)\n",
      "memory usage: 1.8+ MB\n"
     ]
    }
   ],
   "source": [
    "# let's drop inconsistent missing values in Date of accident\n",
    "tb = tb.dropna(subset=['Date of Accident'])\n",
    "tb.info()"
   ]
  },
  {
   "cell_type": "markdown",
   "metadata": {},
   "source": [
    "### Removing Duplicates\n",
    "\n",
    "Sometimes accident records are repeated in the dataset.  \n",
    "We will check for duplicate rows and remove them to make  \n",
    "sure our data is clean and accurate.\n"
   ]
  },
  {
   "cell_type": "code",
   "execution_count": 383,
   "metadata": {},
   "outputs": [
    {
     "data": {
      "text/plain": [
       "np.int64(106)"
      ]
     },
     "execution_count": 383,
     "metadata": {},
     "output_type": "execute_result"
    }
   ],
   "source": [
    "# let's check if the duplicates exist\n",
    "tb.duplicated().sum()"
   ]
  },
  {
   "cell_type": "code",
   "execution_count": 384,
   "metadata": {},
   "outputs": [
    {
     "data": {
      "text/plain": [
       "np.int64(0)"
      ]
     },
     "execution_count": 384,
     "metadata": {},
     "output_type": "execute_result"
    }
   ],
   "source": [
    "# let's remove the duplicates and check again\n",
    "tb = tb.drop_duplicates()\n",
    "tb.duplicated().sum()"
   ]
  },
  {
   "cell_type": "code",
   "execution_count": 385,
   "metadata": {},
   "outputs": [
    {
     "data": {
      "text/plain": [
       "(23302, 9)"
      ]
     },
     "execution_count": 385,
     "metadata": {},
     "output_type": "execute_result"
    }
   ],
   "source": [
    "# let's check the shape of the dataset  after the dropping(rows,columns)\n",
    "tb.shape"
   ]
  },
  {
   "cell_type": "code",
   "execution_count": 386,
   "metadata": {},
   "outputs": [
    {
     "name": "stdout",
     "output_type": "stream",
     "text": [
      "<class 'pandas.core.frame.DataFrame'>\n",
      "Index: 23302 entries, 61 to 23966\n",
      "Data columns (total 9 columns):\n",
      " #   Column                 Non-Null Count  Dtype         \n",
      "---  ------                 --------------  -----         \n",
      " 0   Date of Accident       23302 non-null  datetime64[ns]\n",
      " 1   Aircraft Type          23302 non-null  object        \n",
      " 2   Aircraft Registration  23302 non-null  object        \n",
      " 3   Operator               23302 non-null  object        \n",
      " 4   Deaths                 23302 non-null  float64       \n",
      " 5   Location               23302 non-null  object        \n",
      " 6   Country                23302 non-null  object        \n",
      " 7   Category               23302 non-null  object        \n",
      " 8   Year                   23302 non-null  int64         \n",
      "dtypes: datetime64[ns](1), float64(1), int64(1), object(6)\n",
      "memory usage: 1.8+ MB\n"
     ]
    }
   ],
   "source": [
    "#  let's double check everything again after cleaning\n",
    "tb.info()"
   ]
  }
 ],
 "metadata": {
  "kernelspec": {
   "display_name": "base",
   "language": "python",
   "name": "python3"
  },
  "language_info": {
   "codemirror_mode": {
    "name": "ipython",
    "version": 3
   },
   "file_extension": ".py",
   "mimetype": "text/x-python",
   "name": "python",
   "nbconvert_exporter": "python",
   "pygments_lexer": "ipython3",
   "version": "3.13.5"
  }
 },
 "nbformat": 4,
 "nbformat_minor": 2
}
