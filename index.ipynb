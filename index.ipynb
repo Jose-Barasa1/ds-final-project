{
 "cells": [
  {
   "cell_type": "markdown",
   "metadata": {},
   "source": [
    " AVIATION RISK ANALYSIS\n",
    "\n",
    "INTRODUCTION\n",
    "The company wants to start working with airplanes but needs to know which ones are the safest.  \n",
    "\n",
    "In this project, I will look at accident data from 1962–2023.  \n",
    "The goal is to find the lowest-risk aircraft and give 3 clear recommendations to help the business decide which planes to buy.\n"
   ]
  },
  {
   "cell_type": "markdown",
   "metadata": {},
   "source": [
    "BUSINESS UNDERSTANDING\n",
    "\n",
    "WHO'S THIS FOR?  \n",
    "The Head of the Aviation Division.  \n",
    "\n",
    "WHAT DOES THE BUSINESS NEED? \n",
    "They want to know which aircraft are safest to buy.  \n",
    "\n",
    "Key Questions:  \n",
    "1. Which aircraft types have the fewest accidents?  \n",
    "2. How have accidents changed over time?  \n",
    "3. Are private or commercial aircraft safer?  \n"
   ]
  },
  {
   "cell_type": "markdown",
   "metadata": {},
   "source": [
    "DATA UNDERSTANDING\n",
    "\n",
    "The dataset comes from the National Transportation Safety Board (NTSB).  \n",
    "It covers aviation accidents from 1962 to 2023.  \n",
    "\n",
    "WHAT WILL I DO HERE:\n",
    "- Load the dataset into Python.  \n",
    "- Look at the first few rows to see what it looks like.  \n",
    "- Check the number of rows, columns, and missing values.  \n",
    "- Find the most important columns for our analysis (like aircraft type, purpose, fatalities, and damage).  \n"
   ]
  }
 ],
 "metadata": {
  "language_info": {
   "name": "python"
  }
 },
 "nbformat": 4,
 "nbformat_minor": 2
}
